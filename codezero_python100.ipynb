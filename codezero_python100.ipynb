{
  "nbformat": 4,
  "nbformat_minor": 0,
  "metadata": {
    "colab": {
      "name": "codezero_python100.ipynb",
      "provenance": []
    },
    "kernelspec": {
      "name": "python3",
      "display_name": "Python 3"
    },
    "language_info": {
      "name": "python"
    }
  },
  "cells": [
    {
      "cell_type": "markdown",
      "source": [
        "[1001]"
      ],
      "metadata": {
        "id": "R_av_zREKXAh"
      }
    },
    {
      "cell_type": "code",
      "source": [
        "print(\"Hello\")"
      ],
      "metadata": {
        "colab": {
          "base_uri": "https://localhost:8080/"
        },
        "id": "ETsgnWOBKWDH",
        "outputId": "e5cb8713-4bac-4c97-9329-e7ce0bcdd1b0"
      },
      "execution_count": null,
      "outputs": [
        {
          "output_type": "stream",
          "name": "stdout",
          "text": [
            "Hello\n"
          ]
        }
      ]
    },
    {
      "cell_type": "markdown",
      "source": [
        "[1002]"
      ],
      "metadata": {
        "id": "-ROl8G0hLQQI"
      }
    },
    {
      "cell_type": "code",
      "execution_count": null,
      "metadata": {
        "id": "nnmnXgDGMV7Q",
        "colab": {
          "base_uri": "https://localhost:8080/"
        },
        "outputId": "6f92f077-0570-429b-e082-029b26bb65d3"
      },
      "outputs": [
        {
          "output_type": "stream",
          "name": "stdout",
          "text": [
            "Hello World\n"
          ]
        }
      ],
      "source": [
        "print(\"Hello\", \"World\")"
      ]
    },
    {
      "cell_type": "markdown",
      "source": [
        "[1003]"
      ],
      "metadata": {
        "id": "G_bkZYU1OL1s"
      }
    },
    {
      "cell_type": "code",
      "source": [
        "print(\"Hello\")\n",
        "print(\"World\")"
      ],
      "metadata": {
        "colab": {
          "base_uri": "https://localhost:8080/"
        },
        "id": "mKU4UxMkONbG",
        "outputId": "0fe3e548-48a5-4fce-cfb0-58e7c50259b0"
      },
      "execution_count": null,
      "outputs": [
        {
          "output_type": "stream",
          "name": "stdout",
          "text": [
            "Hello\n",
            "World\n"
          ]
        }
      ]
    },
    {
      "cell_type": "markdown",
      "source": [
        "[1004]"
      ],
      "metadata": {
        "id": "GAncvUR9OYs4"
      }
    },
    {
      "cell_type": "code",
      "source": [
        "print(\"'Hello'\")"
      ],
      "metadata": {
        "colab": {
          "base_uri": "https://localhost:8080/"
        },
        "id": "OAkXn91xOaEU",
        "outputId": "63a98fee-a193-4d25-e941-1fea1f3a2ed7"
      },
      "execution_count": null,
      "outputs": [
        {
          "output_type": "stream",
          "name": "stdout",
          "text": [
            "'Hello'\n"
          ]
        }
      ]
    },
    {
      "cell_type": "markdown",
      "source": [
        "[1005]"
      ],
      "metadata": {
        "id": "gXXQXAKoPBII"
      }
    },
    {
      "cell_type": "code",
      "source": [
        "print('\"Hello World\"')"
      ],
      "metadata": {
        "colab": {
          "base_uri": "https://localhost:8080/"
        },
        "id": "cGOaR6fWPC_r",
        "outputId": "ba7e8d8e-3c47-4118-b18f-5fa86334f673"
      },
      "execution_count": null,
      "outputs": [
        {
          "output_type": "stream",
          "name": "stdout",
          "text": [
            "\"Hello World\"\n"
          ]
        }
      ]
    },
    {
      "cell_type": "markdown",
      "source": [
        "[1006]"
      ],
      "metadata": {
        "id": "wskto7rhPbry"
      }
    },
    {
      "cell_type": "code",
      "source": [
        "print('\"!@#$%^&*()\"')"
      ],
      "metadata": {
        "colab": {
          "base_uri": "https://localhost:8080/"
        },
        "id": "RGjjhTufPc30",
        "outputId": "32a8c239-cc68-48e9-cd98-73c3cf1ac321"
      },
      "execution_count": null,
      "outputs": [
        {
          "output_type": "stream",
          "name": "stdout",
          "text": [
            "\"!@#$%^&*()\"\n"
          ]
        }
      ]
    },
    {
      "cell_type": "markdown",
      "source": [
        "[1007]"
      ],
      "metadata": {
        "id": "UfWySS4-PqLN"
      }
    },
    {
      "cell_type": "code",
      "source": [
        "print('\"C:\\Download\\hello.py\"')"
      ],
      "metadata": {
        "colab": {
          "base_uri": "https://localhost:8080/"
        },
        "id": "Lj2DIEMDPu24",
        "outputId": "17a9d34c-9cb2-482d-9315-822af09d0cf2"
      },
      "execution_count": null,
      "outputs": [
        {
          "output_type": "stream",
          "name": "stdout",
          "text": [
            "\"C:\\Download\\hello.py\"\n"
          ]
        }
      ]
    },
    {
      "cell_type": "markdown",
      "source": [
        "[1008]"
      ],
      "metadata": {
        "id": "kzFU8GtDP_aQ"
      }
    },
    {
      "cell_type": "code",
      "source": [
        "print('print(\"Hello World\")')"
      ],
      "metadata": {
        "colab": {
          "base_uri": "https://localhost:8080/"
        },
        "id": "b8gwDEj6QA7t",
        "outputId": "08549332-3a6a-4b1c-fd85-09e6e2b5660a"
      },
      "execution_count": null,
      "outputs": [
        {
          "output_type": "stream",
          "name": "stdout",
          "text": [
            "print(\"Hello World\")\n"
          ]
        }
      ]
    },
    {
      "cell_type": "markdown",
      "source": [
        "[1009]"
      ],
      "metadata": {
        "id": "IIxpC0AwQNT8"
      }
    },
    {
      "cell_type": "code",
      "source": [
        "n = input()\n",
        "print(n)"
      ],
      "metadata": {
        "colab": {
          "base_uri": "https://localhost:8080/"
        },
        "id": "_of-uBw-QO5N",
        "outputId": "ef10d1e0-b0b9-480b-d95d-46c30f5f6c2e"
      },
      "execution_count": null,
      "outputs": [
        {
          "output_type": "stream",
          "name": "stdout",
          "text": [
            "15\n",
            "15\n"
          ]
        }
      ]
    },
    {
      "cell_type": "markdown",
      "source": [
        "[1010]"
      ],
      "metadata": {
        "id": "qNaNNoIEQm1D"
      }
    },
    {
      "cell_type": "code",
      "source": [
        "c = input()\n",
        "print(c)"
      ],
      "metadata": {
        "colab": {
          "base_uri": "https://localhost:8080/"
        },
        "id": "x-wBDbIOQooX",
        "outputId": "e664f63f-87f5-409b-f1c9-75f54bebc125"
      },
      "execution_count": null,
      "outputs": [
        {
          "output_type": "stream",
          "name": "stdout",
          "text": [
            "a\n",
            "a\n"
          ]
        }
      ]
    },
    {
      "cell_type": "markdown",
      "source": [
        "[1011]"
      ],
      "metadata": {
        "id": "-DWFYRvMQ5ZZ"
      }
    },
    {
      "cell_type": "code",
      "source": [
        "f = input()\n",
        "print(f)"
      ],
      "metadata": {
        "colab": {
          "base_uri": "https://localhost:8080/"
        },
        "id": "NIIF22LdQ6Xv",
        "outputId": "7d351d2f-f41d-4259-bbd5-3095668d95b3"
      },
      "execution_count": null,
      "outputs": [
        {
          "output_type": "stream",
          "name": "stdout",
          "text": [
            "1.141213\n",
            "1.141213\n"
          ]
        }
      ]
    },
    {
      "cell_type": "markdown",
      "source": [
        "[1012]"
      ],
      "metadata": {
        "id": "fbHjkTWgRJ8T"
      }
    },
    {
      "cell_type": "code",
      "source": [
        "a = input()\n",
        "b = input()\n",
        "print(a)\n",
        "print(b)"
      ],
      "metadata": {
        "colab": {
          "base_uri": "https://localhost:8080/"
        },
        "id": "LlXyeHpGRLPa",
        "outputId": "b29e92d7-45ca-4735-dfd5-1cfb5ccf0261"
      },
      "execution_count": null,
      "outputs": [
        {
          "output_type": "stream",
          "name": "stdout",
          "text": [
            "1\n",
            "2\n",
            "1\n",
            "2\n"
          ]
        }
      ]
    },
    {
      "cell_type": "markdown",
      "source": [
        "[1013]"
      ],
      "metadata": {
        "id": "nCFqiX2lRaYA"
      }
    },
    {
      "cell_type": "code",
      "source": [
        "a = input()\n",
        "b = input()\n",
        "print(b)\n",
        "print(a)"
      ],
      "metadata": {
        "colab": {
          "base_uri": "https://localhost:8080/"
        },
        "id": "qfwora9QRbvC",
        "outputId": "2f274d23-b8d4-4d50-b0b5-860ae315c3be"
      },
      "execution_count": null,
      "outputs": [
        {
          "output_type": "stream",
          "name": "stdout",
          "text": [
            "a\n",
            "b\n",
            "b\n",
            "a\n"
          ]
        }
      ]
    },
    {
      "cell_type": "markdown",
      "source": [
        "[1014]"
      ],
      "metadata": {
        "id": "0eihQeusRtRm"
      }
    },
    {
      "cell_type": "code",
      "source": [
        "f = input()\n",
        "print(f)\n",
        "print(f)\n",
        "print(f)"
      ],
      "metadata": {
        "colab": {
          "base_uri": "https://localhost:8080/"
        },
        "id": "okUVAv0nRuXp",
        "outputId": "6856c19d-d9c6-4956-e621-2783d33b417e"
      },
      "execution_count": null,
      "outputs": [
        {
          "output_type": "stream",
          "name": "stdout",
          "text": [
            "o.1\n",
            "o.1\n",
            "o.1\n",
            "o.1\n"
          ]
        }
      ]
    },
    {
      "cell_type": "markdown",
      "source": [
        "[1015]"
      ],
      "metadata": {
        "id": "kq9z4hlJR-eU"
      }
    },
    {
      "cell_type": "code",
      "source": [
        "a, b = input().split()\n",
        "print(a)\n",
        "print(b)"
      ],
      "metadata": {
        "colab": {
          "base_uri": "https://localhost:8080/"
        },
        "id": "0dC9Wfd9R_vb",
        "outputId": "f3e8f322-62d9-4c2d-8e13-4530a54fa728"
      },
      "execution_count": null,
      "outputs": [
        {
          "output_type": "stream",
          "name": "stdout",
          "text": [
            "1 2\n",
            "1\n",
            "2\n"
          ]
        }
      ]
    },
    {
      "cell_type": "markdown",
      "source": [
        "[1016]"
      ],
      "metadata": {
        "id": "qXT9dnqUSNnQ"
      }
    },
    {
      "cell_type": "code",
      "source": [
        "a, b = input().split()\n",
        "print(b, a)"
      ],
      "metadata": {
        "colab": {
          "base_uri": "https://localhost:8080/"
        },
        "id": "8oFRfEpISOwa",
        "outputId": "ff641552-6924-4fa7-e418-cb6cf0c01457"
      },
      "execution_count": null,
      "outputs": [
        {
          "output_type": "stream",
          "name": "stdout",
          "text": [
            "a b\n",
            "b a\n"
          ]
        }
      ]
    },
    {
      "cell_type": "markdown",
      "source": [
        "[1017]"
      ],
      "metadata": {
        "id": "T6830vy2SnSi"
      }
    },
    {
      "cell_type": "code",
      "source": [
        "s = input()\n",
        "print(s, s, s)"
      ],
      "metadata": {
        "colab": {
          "base_uri": "https://localhost:8080/"
        },
        "id": "5x1t3LsZSq6p",
        "outputId": "d1c047c0-6115-4183-80a4-4d297d4a0a4f"
      },
      "execution_count": null,
      "outputs": [
        {
          "output_type": "stream",
          "name": "stdout",
          "text": [
            "computer science\n",
            "computer science computer science computer science\n"
          ]
        }
      ]
    },
    {
      "cell_type": "markdown",
      "source": [
        "[1018]"
      ],
      "metadata": {
        "id": "2quGsWKeS4a0"
      }
    },
    {
      "cell_type": "code",
      "source": [
        "a, b = input().split(':')\n",
        "print(a, b, sep=':')"
      ],
      "metadata": {
        "colab": {
          "base_uri": "https://localhost:8080/"
        },
        "id": "_V3Ro243S5kL",
        "outputId": "08811cd0-9677-43d0-ea18-360f9ef50538"
      },
      "execution_count": null,
      "outputs": [
        {
          "output_type": "stream",
          "name": "stdout",
          "text": [
            "3:16\n",
            "3:16\n"
          ]
        }
      ]
    },
    {
      "cell_type": "markdown",
      "source": [
        "[1019]"
      ],
      "metadata": {
        "id": "LiYvf-7WTNsU"
      }
    },
    {
      "cell_type": "code",
      "source": [
        "y, m, d = input().split('.')\n",
        "print(d, m, y, sep='-')"
      ],
      "metadata": {
        "colab": {
          "base_uri": "https://localhost:8080/"
        },
        "id": "fvO0DxIGTPVU",
        "outputId": "2684614a-e143-4029-b8fb-1641ab1b3a66"
      },
      "execution_count": null,
      "outputs": [
        {
          "output_type": "stream",
          "name": "stdout",
          "text": [
            "2020.3.4\n",
            "4-3-2020\n"
          ]
        }
      ]
    },
    {
      "cell_type": "markdown",
      "source": [
        "[1020]"
      ],
      "metadata": {
        "id": "mGZ6x7maTryh"
      }
    },
    {
      "cell_type": "code",
      "source": [
        "a, b = input().split('-')\n",
        "print(a, b, sep='')"
      ],
      "metadata": {
        "colab": {
          "base_uri": "https://localhost:8080/"
        },
        "id": "FaqfyaqsTtfg",
        "outputId": "811e3a24-8198-4bf6-ebaf-4774c3cb1463"
      },
      "execution_count": null,
      "outputs": [
        {
          "output_type": "stream",
          "name": "stdout",
          "text": [
            "000907-1121112\n",
            "0009071121112\n"
          ]
        }
      ]
    },
    {
      "cell_type": "markdown",
      "source": [
        "[1021]"
      ],
      "metadata": {
        "id": "0Fpr81YpURnu"
      }
    },
    {
      "cell_type": "code",
      "source": [
        "s=input()\n",
        "print(s[0])\n",
        "print(s[1])\n",
        "print(s[2])\n",
        "print(s[3])\n",
        "print(s[4])"
      ],
      "metadata": {
        "colab": {
          "base_uri": "https://localhost:8080/"
        },
        "id": "iXMpo_K5UTOZ",
        "outputId": "1ddfed78-d521-4812-9526-921ac6dc9679"
      },
      "execution_count": null,
      "outputs": [
        {
          "output_type": "stream",
          "name": "stdout",
          "text": [
            "Hello\n",
            "H\n",
            "e\n",
            "l\n",
            "l\n",
            "o\n"
          ]
        }
      ]
    },
    {
      "cell_type": "markdown",
      "source": [
        "[1022]"
      ],
      "metadata": {
        "id": "WsACKFCQU72e"
      }
    },
    {
      "cell_type": "code",
      "source": [
        "s = input()\n",
        "print(s[0:2],s[2:4],s[4:6])"
      ],
      "metadata": {
        "colab": {
          "base_uri": "https://localhost:8080/"
        },
        "id": "6X4U1eG2U-Be",
        "outputId": "bfa45ba1-23b2-43b2-f6c7-01a847fd7456"
      },
      "execution_count": null,
      "outputs": [
        {
          "output_type": "stream",
          "name": "stdout",
          "text": [
            "200304\n",
            "20 03 04\n"
          ]
        }
      ]
    },
    {
      "cell_type": "markdown",
      "source": [
        "[1023]"
      ],
      "metadata": {
        "id": "V1B-vTIEVjy7"
      }
    },
    {
      "cell_type": "code",
      "source": [
        "t, m, s = input().split(':')\n",
        "print(m)"
      ],
      "metadata": {
        "colab": {
          "base_uri": "https://localhost:8080/"
        },
        "id": "6FxRlBgPVmBG",
        "outputId": "d2feea01-ab90-4ce5-cc2d-ab44710f7c8c"
      },
      "execution_count": null,
      "outputs": [
        {
          "output_type": "stream",
          "name": "stdout",
          "text": [
            "17:23:57\n",
            "23\n"
          ]
        }
      ]
    },
    {
      "cell_type": "markdown",
      "source": [
        "[1024]"
      ],
      "metadata": {
        "id": "qSgRsxGpWMys"
      }
    },
    {
      "cell_type": "code",
      "source": [
        "w1, w2 = input().split()\n",
        "s = w1 + w2\n",
        "print(s)"
      ],
      "metadata": {
        "colab": {
          "base_uri": "https://localhost:8080/"
        },
        "id": "GN-aR_vZWOl9",
        "outputId": "f60c0c87-3bde-49b5-8050-4a0012242ced"
      },
      "execution_count": null,
      "outputs": [
        {
          "output_type": "stream",
          "name": "stdout",
          "text": [
            "hello world\n",
            "helloworld\n"
          ]
        }
      ]
    },
    {
      "cell_type": "markdown",
      "source": [
        "[1025]"
      ],
      "metadata": {
        "id": "Sws6aqeiWobM"
      }
    },
    {
      "cell_type": "code",
      "source": [
        "a, b = input().split()\n",
        "c = int(a) + int(b)\n",
        "print(c)"
      ],
      "metadata": {
        "colab": {
          "base_uri": "https://localhost:8080/"
        },
        "id": "y2nmBiIXWqjB",
        "outputId": "edc27da3-745a-48c2-888a-29e00dd06c95"
      },
      "execution_count": null,
      "outputs": [
        {
          "output_type": "stream",
          "name": "stdout",
          "text": [
            "123 -123\n",
            "0\n"
          ]
        }
      ]
    },
    {
      "cell_type": "markdown",
      "source": [
        "[1026]"
      ],
      "metadata": {
        "id": "b5iaqZu5W_Rq"
      }
    },
    {
      "cell_type": "code",
      "source": [
        "a = input()\n",
        "b = input()\n",
        "c = float(a) + float(b)\n",
        "print(c)"
      ],
      "metadata": {
        "colab": {
          "base_uri": "https://localhost:8080/"
        },
        "id": "4HJfKx_-XAxk",
        "outputId": "d2783b72-4d03-4884-ef72-99895da25105"
      },
      "execution_count": null,
      "outputs": [
        {
          "output_type": "stream",
          "name": "stdout",
          "text": [
            "0.1\n",
            "0.9\n",
            "1.0\n"
          ]
        }
      ]
    },
    {
      "cell_type": "markdown",
      "source": [
        "[1027]"
      ],
      "metadata": {
        "id": "Co9kir4dXlPY"
      }
    },
    {
      "cell_type": "code",
      "source": [
        "a = input()\n",
        "n = int(a)           \n",
        "print('%x' % n)"
      ],
      "metadata": {
        "colab": {
          "base_uri": "https://localhost:8080/"
        },
        "id": "HNC2mrSDXnEC",
        "outputId": "390b4006-f43e-4ce2-b47d-e4dda5c7d77c"
      },
      "execution_count": null,
      "outputs": [
        {
          "output_type": "stream",
          "name": "stdout",
          "text": [
            "255\n",
            "ff\n"
          ]
        }
      ]
    },
    {
      "cell_type": "markdown",
      "source": [
        "[1028]"
      ],
      "metadata": {
        "id": "XVOQ2GyqYMj2"
      }
    },
    {
      "cell_type": "code",
      "source": [
        "a = input()\n",
        "n = int(a)           \n",
        "print('%X' % n)"
      ],
      "metadata": {
        "colab": {
          "base_uri": "https://localhost:8080/"
        },
        "id": "841HJeH5YO8g",
        "outputId": "e97c3ffb-d780-451a-9834-ad8f073bf293"
      },
      "execution_count": null,
      "outputs": [
        {
          "output_type": "stream",
          "name": "stdout",
          "text": [
            "255\n",
            "FF\n"
          ]
        }
      ]
    },
    {
      "cell_type": "markdown",
      "source": [
        "[1029]"
      ],
      "metadata": {
        "id": "fNPTnh2WYeDL"
      }
    },
    {
      "cell_type": "code",
      "source": [
        "a = input()\n",
        "n = int(a,16)           \n",
        "print('%o' % n)"
      ],
      "metadata": {
        "colab": {
          "base_uri": "https://localhost:8080/"
        },
        "id": "5lpN27oyYfj0",
        "outputId": "6f937930-187f-488a-b4d0-28f4a46ff7d9"
      },
      "execution_count": null,
      "outputs": [
        {
          "output_type": "stream",
          "name": "stdout",
          "text": [
            "f\n",
            "17\n"
          ]
        }
      ]
    },
    {
      "cell_type": "markdown",
      "source": [
        "[1030]"
      ],
      "metadata": {
        "id": "ppVNf1DeYu2O"
      }
    },
    {
      "cell_type": "code",
      "source": [
        "n = ord(input())\n",
        "print(n)"
      ],
      "metadata": {
        "colab": {
          "base_uri": "https://localhost:8080/"
        },
        "id": "bqgIBSkAYwJE",
        "outputId": "627fa012-ca5c-4712-fac4-afa2ef817b32"
      },
      "execution_count": null,
      "outputs": [
        {
          "output_type": "stream",
          "name": "stdout",
          "text": [
            "A\n",
            "65\n"
          ]
        }
      ]
    },
    {
      "cell_type": "markdown",
      "source": [
        "[1031]"
      ],
      "metadata": {
        "id": "Dpjz44HjZJ3g"
      }
    },
    {
      "cell_type": "code",
      "source": [
        "c = int(input())\n",
        "print(chr(c))"
      ],
      "metadata": {
        "colab": {
          "base_uri": "https://localhost:8080/"
        },
        "id": "pKjlfMFLZOmz",
        "outputId": "2a65dcc7-19e8-427f-a470-9dfa4261262c"
      },
      "execution_count": null,
      "outputs": [
        {
          "output_type": "stream",
          "name": "stdout",
          "text": [
            "65\n",
            "A\n"
          ]
        }
      ]
    },
    {
      "cell_type": "markdown",
      "source": [
        "[1032]"
      ],
      "metadata": {
        "id": "QoWxtXH7afos"
      }
    },
    {
      "cell_type": "code",
      "source": [
        "n = int(input())\n",
        "print(-n)"
      ],
      "metadata": {
        "colab": {
          "base_uri": "https://localhost:8080/"
        },
        "id": "koGbB23kagwE",
        "outputId": "2c6c975d-a613-4ad0-932a-3995cf96d74a"
      },
      "execution_count": null,
      "outputs": [
        {
          "output_type": "stream",
          "name": "stdout",
          "text": [
            "-1\n",
            "1\n"
          ]
        }
      ]
    },
    {
      "cell_type": "markdown",
      "source": [
        "[1033]"
      ],
      "metadata": {
        "id": "WNgnV-lkaxuL"
      }
    },
    {
      "cell_type": "code",
      "source": [
        "a = ord(input())\n",
        "print(chr(a+1))"
      ],
      "metadata": {
        "colab": {
          "base_uri": "https://localhost:8080/"
        },
        "id": "jNXOX3d-azb-",
        "outputId": "2baa5ca2-4296-4ed5-8001-5adc087a629f"
      },
      "execution_count": null,
      "outputs": [
        {
          "output_type": "stream",
          "name": "stdout",
          "text": [
            "a\n",
            "b\n"
          ]
        }
      ]
    },
    {
      "cell_type": "markdown",
      "source": [
        "[1034]"
      ],
      "metadata": {
        "id": "U0WuvoPkb1_9"
      }
    },
    {
      "cell_type": "code",
      "source": [
        "a, b = input().split()\n",
        "c = int(a) - int(b)\n",
        "print(c)"
      ],
      "metadata": {
        "colab": {
          "base_uri": "https://localhost:8080/"
        },
        "id": "erjclDo_b31d",
        "outputId": "e695579a-d177-4b9b-c34a-929e96251200"
      },
      "execution_count": null,
      "outputs": [
        {
          "output_type": "stream",
          "name": "stdout",
          "text": [
            "123 -123\n",
            "246\n"
          ]
        }
      ]
    },
    {
      "cell_type": "markdown",
      "source": [
        "[1035]"
      ],
      "metadata": {
        "id": "413IHcCwcO9A"
      }
    },
    {
      "cell_type": "code",
      "source": [
        "f1, f2 = input().split()\n",
        "m = float(f1) * float(f2)\n",
        "print(m)"
      ],
      "metadata": {
        "colab": {
          "base_uri": "https://localhost:8080/"
        },
        "id": "A8PaibWpcQ7D",
        "outputId": "fa65754b-9143-4367-9bff-57c839b17b81"
      },
      "execution_count": null,
      "outputs": [
        {
          "output_type": "stream",
          "name": "stdout",
          "text": [
            "0.5 2.0\n",
            "1.0\n"
          ]
        }
      ]
    },
    {
      "cell_type": "markdown",
      "source": [
        "[1036]"
      ],
      "metadata": {
        "id": "yEM1_3kRcv7E"
      }
    },
    {
      "cell_type": "code",
      "source": [
        "w, n = input().split()\n",
        "print(w*int(n))"
      ],
      "metadata": {
        "colab": {
          "base_uri": "https://localhost:8080/"
        },
        "id": "VRZy9dIocxYz",
        "outputId": "5fa0cc54-f8ff-4fa7-9297-a64ed8608d9e"
      },
      "execution_count": null,
      "outputs": [
        {
          "output_type": "stream",
          "name": "stdout",
          "text": [
            "love 3\n",
            "lovelovelove\n"
          ]
        }
      ]
    },
    {
      "cell_type": "markdown",
      "source": [
        "[1037]"
      ],
      "metadata": {
        "id": "I4-qsRw1dA_g"
      }
    },
    {
      "cell_type": "code",
      "source": [
        "n = input()\n",
        "s = input()\n",
        "print(int(n)*s)"
      ],
      "metadata": {
        "colab": {
          "base_uri": "https://localhost:8080/"
        },
        "id": "kC_wrxYddCuu",
        "outputId": "ac969626-a94c-469c-ec98-46cc8647b31f"
      },
      "execution_count": null,
      "outputs": [
        {
          "output_type": "stream",
          "name": "stdout",
          "text": [
            "3\n",
            "I love CS\n",
            "I love CSI love CSI love CS\n"
          ]
        }
      ]
    },
    {
      "cell_type": "markdown",
      "source": [
        "[1038]"
      ],
      "metadata": {
        "id": "Jw9qL40XdUiN"
      }
    },
    {
      "cell_type": "code",
      "source": [
        "a, b = input().split()\n",
        "c = int(a)**int(b) \n",
        "print(c)"
      ],
      "metadata": {
        "colab": {
          "base_uri": "https://localhost:8080/"
        },
        "id": "jlURargsdWjC",
        "outputId": "f70d3f7e-9bbb-411f-fd1f-8033c014f4bf"
      },
      "execution_count": null,
      "outputs": [
        {
          "output_type": "stream",
          "name": "stdout",
          "text": [
            "2 10\n",
            "1024\n"
          ]
        }
      ]
    },
    {
      "cell_type": "markdown",
      "source": [
        "[1039]"
      ],
      "metadata": {
        "id": "P2lT2DaJdqUo"
      }
    },
    {
      "cell_type": "code",
      "source": [
        "f1, f2 = input().split()\n",
        "c = float(f1)**float(f2) \n",
        "print(c)"
      ],
      "metadata": {
        "colab": {
          "base_uri": "https://localhost:8080/"
        },
        "id": "yw98OKvJdsW6",
        "outputId": "e9017d13-e86b-4170-958f-dd2ccc197625"
      },
      "execution_count": null,
      "outputs": [
        {
          "output_type": "stream",
          "name": "stdout",
          "text": [
            "4.0 0.5\n",
            "2.0\n"
          ]
        }
      ]
    },
    {
      "cell_type": "markdown",
      "source": [
        "[1040]"
      ],
      "metadata": {
        "id": "JGwc9pQBeRpz"
      }
    },
    {
      "cell_type": "code",
      "source": [
        "a, b = input().split()\n",
        "c = int(a)//int(b)\n",
        "print(c)"
      ],
      "metadata": {
        "colab": {
          "base_uri": "https://localhost:8080/"
        },
        "id": "Lr9V3tRZeTn2",
        "outputId": "2aee486e-b98d-426f-de4d-518ef3387785"
      },
      "execution_count": null,
      "outputs": [
        {
          "output_type": "stream",
          "name": "stdout",
          "text": [
            "10 3\n",
            "3\n"
          ]
        }
      ]
    },
    {
      "cell_type": "markdown",
      "source": [
        "[1041]"
      ],
      "metadata": {
        "id": "V8FyVyKQfEAz"
      }
    },
    {
      "cell_type": "code",
      "source": [
        "a, b = input().split()\n",
        "c = int(a)%int(b)\n",
        "print(c)"
      ],
      "metadata": {
        "colab": {
          "base_uri": "https://localhost:8080/"
        },
        "id": "TMvPqa7QfFnV",
        "outputId": "2eb230af-df2f-4adb-963e-9761ee32d98d"
      },
      "execution_count": null,
      "outputs": [
        {
          "output_type": "stream",
          "name": "stdout",
          "text": [
            "10 3\n",
            "1\n"
          ]
        }
      ]
    },
    {
      "cell_type": "markdown",
      "source": [
        "[1042]"
      ],
      "metadata": {
        "id": "hwfbH_Q0fopZ"
      }
    },
    {
      "cell_type": "code",
      "source": [
        "f = float(input())\n",
        "print(round(f,2))"
      ],
      "metadata": {
        "colab": {
          "base_uri": "https://localhost:8080/"
        },
        "id": "RljO4kkDfqgS",
        "outputId": "e35a03ef-5e07-4f48-f0c6-dc0d5fb98469"
      },
      "execution_count": null,
      "outputs": [
        {
          "output_type": "stream",
          "name": "stdout",
          "text": [
            "3.141592\n",
            "3.14\n"
          ]
        }
      ]
    },
    {
      "cell_type": "markdown",
      "source": [
        "[1043]"
      ],
      "metadata": {
        "id": "SsypiS-agMKI"
      }
    },
    {
      "cell_type": "code",
      "source": [
        "f1, f2 = input().split()\n",
        "f3 = float(f1)/float(f2)\n",
        "print(round(f3,3))"
      ],
      "metadata": {
        "colab": {
          "base_uri": "https://localhost:8080/"
        },
        "id": "WnINQJC8gOSC",
        "outputId": "8d06802e-1424-4cba-d2ab-c5257e48af0a"
      },
      "execution_count": null,
      "outputs": [
        {
          "output_type": "stream",
          "name": "stdout",
          "text": [
            "10 3\n",
            "3.333\n"
          ]
        }
      ]
    },
    {
      "cell_type": "markdown",
      "source": [
        "[1044]"
      ],
      "metadata": {
        "id": "o78sMfGBhAhB"
      }
    },
    {
      "cell_type": "code",
      "source": [
        "a, b = input().split()\n",
        "print(int(a)+int(b))\n",
        "print(int(a)-int(b))\n",
        "print(int(a)*int(b))\n",
        "print(int(a)//int(b))\n",
        "print(int(a)%int(b))\n",
        "print(round(int(a)/int(b),2))"
      ],
      "metadata": {
        "colab": {
          "base_uri": "https://localhost:8080/"
        },
        "id": "QzsR7eCBhCJ4",
        "outputId": "8bcdaad3-065a-42b2-e26e-0dd1f34ff319"
      },
      "execution_count": null,
      "outputs": [
        {
          "output_type": "stream",
          "name": "stdout",
          "text": [
            "10 3\n",
            "13\n",
            "7\n",
            "30\n",
            "3\n",
            "1\n",
            "3.33\n"
          ]
        }
      ]
    },
    {
      "cell_type": "markdown",
      "source": [
        "[1045]"
      ],
      "metadata": {
        "id": "kpV8WGHYhx6-"
      }
    },
    {
      "cell_type": "code",
      "source": [
        "a, b, c = input().split()\n",
        "sum = int(a)+int(b)+int(c)\n",
        "avg = sum/3\n",
        "print(sum, round(avg,2))"
      ],
      "metadata": {
        "colab": {
          "base_uri": "https://localhost:8080/"
        },
        "id": "Ew0Fa0nNhzr8",
        "outputId": "4d785574-e2ea-4998-caa5-0a0e655fb1f6"
      },
      "execution_count": null,
      "outputs": [
        {
          "output_type": "stream",
          "name": "stdout",
          "text": [
            "1 2 3\n",
            "6 2.0\n"
          ]
        }
      ]
    },
    {
      "cell_type": "markdown",
      "source": [
        "[1046]"
      ],
      "metadata": {
        "id": "DESvsv2oirPy"
      }
    },
    {
      "cell_type": "code",
      "source": [
        "a = int(input())\n",
        "print(a<<1)"
      ],
      "metadata": {
        "colab": {
          "base_uri": "https://localhost:8080/"
        },
        "id": "3hQC3Pcnis15",
        "outputId": "85ccfc51-8874-4163-d1bf-179eeee242d9"
      },
      "execution_count": null,
      "outputs": [
        {
          "output_type": "stream",
          "name": "stdout",
          "text": [
            "1024\n",
            "2048\n"
          ]
        }
      ]
    },
    {
      "cell_type": "markdown",
      "source": [
        "[1047]"
      ],
      "metadata": {
        "id": "Ebu9-q5ujPrI"
      }
    },
    {
      "cell_type": "code",
      "source": [
        "a, b = input().split()\n",
        "print(int(a)<<int(b))"
      ],
      "metadata": {
        "colab": {
          "base_uri": "https://localhost:8080/"
        },
        "id": "47SvLWo7jRA8",
        "outputId": "5efcc40c-1c6d-44d2-d9f0-b4ff30c05439"
      },
      "execution_count": null,
      "outputs": [
        {
          "output_type": "stream",
          "name": "stdout",
          "text": [
            "1 3\n",
            "8\n"
          ]
        }
      ]
    },
    {
      "cell_type": "markdown",
      "source": [
        "[1048]"
      ],
      "metadata": {
        "id": "EcfH7Hwnj0_Y"
      }
    },
    {
      "cell_type": "code",
      "source": [
        "a, b = input().split()\n",
        "a, b = int(a), int(b)\n",
        "c = a < b\n",
        "print(c)"
      ],
      "metadata": {
        "colab": {
          "base_uri": "https://localhost:8080/"
        },
        "id": "pks2XTm9j2yP",
        "outputId": "2f5aa0f4-04a5-442a-b1ff-3fc792a366ce"
      },
      "execution_count": null,
      "outputs": [
        {
          "output_type": "stream",
          "name": "stdout",
          "text": [
            "1 9\n",
            "True\n"
          ]
        }
      ]
    },
    {
      "cell_type": "markdown",
      "source": [
        "[1049]"
      ],
      "metadata": {
        "id": "Tffn_I6tkzvX"
      }
    },
    {
      "cell_type": "code",
      "source": [
        "a, b = input().split()\n",
        "c = (int(a)==int(b))\n",
        "print(c)"
      ],
      "metadata": {
        "colab": {
          "base_uri": "https://localhost:8080/"
        },
        "id": "0T_1O1uwk1xh",
        "outputId": "40933d5a-583a-4c28-c430-ee6b337a12a5"
      },
      "execution_count": null,
      "outputs": [
        {
          "output_type": "stream",
          "name": "stdout",
          "text": [
            "0 0\n",
            "True\n"
          ]
        }
      ]
    },
    {
      "cell_type": "markdown",
      "source": [
        "[1050]"
      ],
      "metadata": {
        "id": "aeguHMPIlRFH"
      }
    },
    {
      "cell_type": "code",
      "source": [
        "a, b = input().split()\n",
        "c = (int(a)<=int(b))\n",
        "print(c)"
      ],
      "metadata": {
        "colab": {
          "base_uri": "https://localhost:8080/"
        },
        "id": "MKP4J81NlSg2",
        "outputId": "1bca1a52-d978-4cce-9d9e-6d9f787ec3eb"
      },
      "execution_count": null,
      "outputs": [
        {
          "output_type": "stream",
          "name": "stdout",
          "text": [
            "0 -1\n",
            "False\n"
          ]
        }
      ]
    },
    {
      "cell_type": "markdown",
      "source": [
        "[1051]"
      ],
      "metadata": {
        "id": "m9_3Wl0Olkle"
      }
    },
    {
      "cell_type": "code",
      "source": [
        "a, b = input().split()\n",
        "c = (int(a)!=int(b))\n",
        "print(c)"
      ],
      "metadata": {
        "colab": {
          "base_uri": "https://localhost:8080/"
        },
        "id": "_AxVVWdFlp1_",
        "outputId": "ae2af148-43dd-4aef-fa5c-c18141b23fd5"
      },
      "execution_count": null,
      "outputs": [
        {
          "output_type": "stream",
          "name": "stdout",
          "text": [
            "0 1\n",
            "True\n"
          ]
        }
      ]
    },
    {
      "cell_type": "markdown",
      "source": [
        "[1052]"
      ],
      "metadata": {
        "id": "RYJjFC1DpePx"
      }
    },
    {
      "cell_type": "code",
      "source": [
        "n = int(input())\n",
        "print(bool(n))"
      ],
      "metadata": {
        "colab": {
          "base_uri": "https://localhost:8080/"
        },
        "id": "r2icTPhVpgmC",
        "outputId": "a7793639-f447-42c3-fbda-306d779a63ff"
      },
      "execution_count": null,
      "outputs": [
        {
          "output_type": "stream",
          "name": "stdout",
          "text": [
            "0\n",
            "False\n"
          ]
        }
      ]
    },
    {
      "cell_type": "markdown",
      "source": [
        "[1053]"
      ],
      "metadata": {
        "id": "QRDt9TIFmHR5"
      }
    },
    {
      "cell_type": "code",
      "source": [
        "a = bool(int(input()))\n",
        "print(not a)"
      ],
      "metadata": {
        "colab": {
          "base_uri": "https://localhost:8080/"
        },
        "id": "FQg_BAE-mIqV",
        "outputId": "132baeaa-ed77-4898-c091-ea00df44e787"
      },
      "execution_count": null,
      "outputs": [
        {
          "output_type": "stream",
          "name": "stdout",
          "text": [
            "1\n",
            "False\n"
          ]
        }
      ]
    },
    {
      "cell_type": "markdown",
      "source": [
        "[1054]"
      ],
      "metadata": {
        "id": "m1J89yF8mkH-"
      }
    },
    {
      "cell_type": "code",
      "source": [
        "a, b = input().split()\n",
        "print(bool(int(a)) and bool(int(b)))"
      ],
      "metadata": {
        "colab": {
          "base_uri": "https://localhost:8080/"
        },
        "id": "7QhthfaQm9fg",
        "outputId": "2606c7bf-1426-4a01-ec2e-c35f522bb397"
      },
      "execution_count": null,
      "outputs": [
        {
          "output_type": "stream",
          "name": "stdout",
          "text": [
            "1 1\n",
            "True\n"
          ]
        }
      ]
    },
    {
      "cell_type": "markdown",
      "source": [
        "[1055]"
      ],
      "metadata": {
        "id": "R8-zC6fznMks"
      }
    },
    {
      "cell_type": "code",
      "source": [
        "a, b = input().split()\n",
        "print(bool(int(a)) or bool(int(b)))"
      ],
      "metadata": {
        "colab": {
          "base_uri": "https://localhost:8080/"
        },
        "id": "49eJKEKWnOCn",
        "outputId": "602ded1b-ff20-4138-bbe1-3baaaa342bad"
      },
      "execution_count": null,
      "outputs": [
        {
          "output_type": "stream",
          "name": "stdout",
          "text": [
            "1 1\n",
            "True\n"
          ]
        }
      ]
    },
    {
      "cell_type": "markdown",
      "source": [
        "[1056]**굵은 텍스트**"
      ],
      "metadata": {
        "id": "ylIrpnBFnam5"
      }
    },
    {
      "cell_type": "code",
      "source": [
        "a, b = input().split()\n",
        "c = bool(int(a))\n",
        "d = bool(int(b))\n",
        "print((c and (not d)) or ((not c) and d))"
      ],
      "metadata": {
        "colab": {
          "base_uri": "https://localhost:8080/"
        },
        "id": "zB7sLzmMncIS",
        "outputId": "e8b4955b-e094-4c85-ee0f-1df1e05d53a5"
      },
      "execution_count": null,
      "outputs": [
        {
          "output_type": "stream",
          "name": "stdout",
          "text": [
            "1 1\n",
            "False\n"
          ]
        }
      ]
    },
    {
      "cell_type": "markdown",
      "source": [
        "[1057]"
      ],
      "metadata": {
        "id": "fjsng3GXn56O"
      }
    },
    {
      "cell_type": "code",
      "source": [
        "a, b = input().split()\n",
        "c = bool(int(a))\n",
        "d = bool(int(b))\n",
        "print((c and d) or ((not c) and (not d)))"
      ],
      "metadata": {
        "colab": {
          "base_uri": "https://localhost:8080/"
        },
        "id": "av6jH_wTn7to",
        "outputId": "aaf4399c-ebe9-4589-8af4-0a3f802f5f32"
      },
      "execution_count": null,
      "outputs": [
        {
          "output_type": "stream",
          "name": "stdout",
          "text": [
            "0 0\n",
            "True\n"
          ]
        }
      ]
    },
    {
      "cell_type": "markdown",
      "source": [
        "[1058]"
      ],
      "metadata": {
        "id": "60vk7cluoaPL"
      }
    },
    {
      "cell_type": "code",
      "source": [
        "a, b = input().split()\n",
        "c = bool(int(a))\n",
        "d = bool(int(b))\n",
        "print(not(c or d))"
      ],
      "metadata": {
        "colab": {
          "base_uri": "https://localhost:8080/"
        },
        "id": "Jz4AN8RtomTk",
        "outputId": "09fef235-a5f5-4f36-b7e0-d2f462400253"
      },
      "execution_count": null,
      "outputs": [
        {
          "output_type": "stream",
          "name": "stdout",
          "text": [
            "1 1\n",
            "False\n"
          ]
        }
      ]
    },
    {
      "cell_type": "markdown",
      "source": [
        "[1059]"
      ],
      "metadata": {
        "id": "6wB0Ab44obPM"
      }
    },
    {
      "cell_type": "code",
      "source": [
        "a = int(input())\n",
        "print(~a)"
      ],
      "metadata": {
        "colab": {
          "base_uri": "https://localhost:8080/"
        },
        "id": "g07pNQYQodwd",
        "outputId": "f09b7cc9-2dad-4938-ea7c-fa99a8abda74"
      },
      "execution_count": null,
      "outputs": [
        {
          "output_type": "stream",
          "name": "stdout",
          "text": [
            "2\n",
            "-3\n"
          ]
        }
      ]
    },
    {
      "cell_type": "markdown",
      "source": [
        "[1060]"
      ],
      "metadata": {
        "id": "IJISrb8t1taj"
      }
    },
    {
      "cell_type": "code",
      "source": [
        "a, b = input().split()\n",
        "print(int(a) & int(b))"
      ],
      "metadata": {
        "colab": {
          "base_uri": "https://localhost:8080/"
        },
        "id": "BvGRQGDu1wQg",
        "outputId": "c1d8b449-6a09-4aec-cdf6-6bd703d3bf31"
      },
      "execution_count": null,
      "outputs": [
        {
          "output_type": "stream",
          "name": "stdout",
          "text": [
            "3 5\n",
            "1\n"
          ]
        }
      ]
    },
    {
      "cell_type": "markdown",
      "source": [
        "[1061]"
      ],
      "metadata": {
        "id": "ImCpPMad29ko"
      }
    },
    {
      "cell_type": "code",
      "source": [
        "a, b = input().split()\n",
        "print(int(a) ^ int(b))"
      ],
      "metadata": {
        "colab": {
          "base_uri": "https://localhost:8080/"
        },
        "id": "yK7-eit12_O2",
        "outputId": "f9550ae6-530e-4588-a072-71f8d8a7d646"
      },
      "execution_count": null,
      "outputs": [
        {
          "output_type": "stream",
          "name": "stdout",
          "text": [
            "3 5\n",
            "7\n"
          ]
        }
      ]
    },
    {
      "cell_type": "markdown",
      "source": [
        "[1062]"
      ],
      "metadata": {
        "id": "HolMXJOm3OeW"
      }
    },
    {
      "cell_type": "code",
      "source": [
        "a, b = input().split()\n",
        "print(int(a) ^ int(b))"
      ],
      "metadata": {
        "colab": {
          "base_uri": "https://localhost:8080/"
        },
        "id": "s9Fvi9iT3QR-",
        "outputId": "98e9a377-3bd4-4bbf-d739-ae58b95ab53b"
      },
      "execution_count": null,
      "outputs": [
        {
          "output_type": "stream",
          "name": "stdout",
          "text": [
            "3 5\n",
            "6\n"
          ]
        }
      ]
    },
    {
      "cell_type": "markdown",
      "source": [
        "[1063]"
      ],
      "metadata": {
        "id": "sm3yFSlT3NQ3"
      }
    },
    {
      "cell_type": "code",
      "source": [
        "a, b = input().split()\n",
        "a = int(a)  \n",
        "b = int(b)\n",
        "c = (a if (a>=b) else b)\n",
        "print(c)                    # 예시에서는 print(int(c))로 사용했는데 왜 int(c)?"
      ],
      "metadata": {
        "colab": {
          "base_uri": "https://localhost:8080/"
        },
        "id": "KFGOSB3t3iEI",
        "outputId": "f3d48639-c693-4c9a-f185-869b95fcb2fb"
      },
      "execution_count": null,
      "outputs": [
        {
          "output_type": "stream",
          "name": "stdout",
          "text": [
            "123 456\n",
            "456\n"
          ]
        }
      ]
    },
    {
      "cell_type": "markdown",
      "source": [
        "[1064]"
      ],
      "metadata": {
        "id": "34lt43oe4NlZ"
      }
    },
    {
      "cell_type": "code",
      "source": [
        "a, b, c = input().split()\n",
        "a = int(a)  \n",
        "b = int(b)\n",
        "c = int(c)\n",
        "print((a if a<b else b) if (a if a<b else b) < c else c)"
      ],
      "metadata": {
        "colab": {
          "base_uri": "https://localhost:8080/"
        },
        "id": "T1uq9xVv4P6a",
        "outputId": "363c612f-b8e5-4b0e-b799-291c5850f91b"
      },
      "execution_count": null,
      "outputs": [
        {
          "output_type": "stream",
          "name": "stdout",
          "text": [
            "3 -1 5\n",
            "-1\n"
          ]
        }
      ]
    },
    {
      "cell_type": "markdown",
      "source": [
        "[1065]"
      ],
      "metadata": {
        "id": "SNLEE15t8qSS"
      }
    },
    {
      "cell_type": "code",
      "source": [
        "a, b, c = input().split()\n",
        "\n",
        "a = int(a)\n",
        "b = int(b)\n",
        "c = int(c)\n",
        "\n",
        "if a%2==0 : \n",
        "  print(a)\n",
        "\n",
        "if b%2==0 :\n",
        "  print(b) \n",
        "\n",
        "if c%2==0 :\n",
        "  print(c) "
      ],
      "metadata": {
        "colab": {
          "base_uri": "https://localhost:8080/"
        },
        "id": "GXNRwllq8sbV",
        "outputId": "217c5372-13cc-418c-f99e-7aaf36ef36bd"
      },
      "execution_count": null,
      "outputs": [
        {
          "output_type": "stream",
          "name": "stdout",
          "text": [
            "1 2 4\n",
            "2\n",
            "4\n"
          ]
        }
      ]
    },
    {
      "cell_type": "markdown",
      "source": [
        "[1066]"
      ],
      "metadata": {
        "id": "Cm2PpepR9EZI"
      }
    },
    {
      "cell_type": "code",
      "source": [
        "a, b, c = input().split()\n",
        "\n",
        "a = int(a)\n",
        "b = int(b)\n",
        "c = int(c)\n",
        "\n",
        "if a%2==0 : \n",
        "    print(\"even\")\n",
        "else:\n",
        "    print(\"odd\")\n",
        "\n",
        "if b%2==0 :\n",
        "    print(\"even\")\n",
        "else:\n",
        "    print(\"odd\")\n",
        "\n",
        "if c%2==0 :\n",
        "    print(\"even\")\n",
        "else:\n",
        "    print(\"odd\")"
      ],
      "metadata": {
        "colab": {
          "base_uri": "https://localhost:8080/"
        },
        "id": "j273L_289Hly",
        "outputId": "e926a1f5-7c9c-4cec-f6c3-6765248d3caf"
      },
      "execution_count": null,
      "outputs": [
        {
          "output_type": "stream",
          "name": "stdout",
          "text": [
            "1 2 8\n",
            "odd\n",
            "even\n",
            "even\n"
          ]
        }
      ]
    },
    {
      "cell_type": "markdown",
      "source": [
        "[1067]"
      ],
      "metadata": {
        "id": "zpMn2F7w9itW"
      }
    },
    {
      "cell_type": "code",
      "source": [
        "n = int(input())\n",
        "if n<0 :\n",
        "  if n%2==0 :\n",
        "    print('A')       \n",
        "  else :\n",
        "    print('B')\n",
        "else :\n",
        "  if n%2==0 :\n",
        "    print('C')\n",
        "  else :\n",
        "    print('D')"
      ],
      "metadata": {
        "colab": {
          "base_uri": "https://localhost:8080/"
        },
        "id": "AWWwEzXY94bX",
        "outputId": "d8bf847b-d505-4184-df2e-b9bc03df675b"
      },
      "execution_count": null,
      "outputs": [
        {
          "output_type": "stream",
          "name": "stdout",
          "text": [
            "-2147483648\n",
            "A\n"
          ]
        }
      ]
    },
    {
      "cell_type": "markdown",
      "source": [
        "[1068]"
      ],
      "metadata": {
        "id": "j1yh8U9w-fRp"
      }
    },
    {
      "cell_type": "code",
      "source": [
        "n = int(input())\n",
        "if n>=90 :\n",
        "  print('A')\n",
        "else :\n",
        "  if n>=70 :\n",
        "    print('B')\n",
        "  else :\n",
        "    if n>=40 :\n",
        "      print('C')\n",
        "    else :\n",
        "      print('D') "
      ],
      "metadata": {
        "colab": {
          "base_uri": "https://localhost:8080/"
        },
        "id": "tQivPGoJ-gnw",
        "outputId": "b27b1211-3780-4e99-dd08-e85802fa62cf"
      },
      "execution_count": null,
      "outputs": [
        {
          "output_type": "stream",
          "name": "stdout",
          "text": [
            "73\n",
            "B\n"
          ]
        }
      ]
    },
    {
      "cell_type": "markdown",
      "source": [
        "[1069]"
      ],
      "metadata": {
        "id": "JN8ePOXq-_Tx"
      }
    },
    {
      "cell_type": "code",
      "source": [
        "c = input()\n",
        "if c == 'A':\n",
        "    print('best!!!')\n",
        "elif c == 'B':\n",
        "    print('good!!')\n",
        "elif c == 'C':\n",
        "    print('run!')\n",
        "elif c=='D':\n",
        "    print('slowly~') \n",
        "else:\n",
        "    print('what?')\n"
      ],
      "metadata": {
        "colab": {
          "base_uri": "https://localhost:8080/"
        },
        "id": "3mRUAaYW_BI5",
        "outputId": "904f28ee-5493-425a-ca01-6fe4a428e42d"
      },
      "execution_count": null,
      "outputs": [
        {
          "output_type": "stream",
          "name": "stdout",
          "text": [
            "A\n",
            "best!!!\n"
          ]
        }
      ]
    },
    {
      "cell_type": "markdown",
      "source": [
        "[1070]"
      ],
      "metadata": {
        "id": "q6g7A2sEALEu"
      }
    },
    {
      "cell_type": "code",
      "source": [
        "n = int(input())\n",
        "if n//3==1:\n",
        "    print('spring')\n",
        "elif n//3==2:\n",
        "    print('summer')\n",
        "elif n//3==3:\n",
        "    print('fall')\n",
        "else:\n",
        "    print('winter')"
      ],
      "metadata": {
        "colab": {
          "base_uri": "https://localhost:8080/"
        },
        "id": "N1y0O7TuAMWf",
        "outputId": "c3d3f91b-750a-488a-eb43-e36e67f67b46"
      },
      "execution_count": null,
      "outputs": [
        {
          "output_type": "stream",
          "name": "stdout",
          "text": [
            "12\n",
            "winter\n"
          ]
        }
      ]
    },
    {
      "cell_type": "markdown",
      "source": [
        "[1071]"
      ],
      "metadata": {
        "id": "tpNsGbdrBHpq"
      }
    },
    {
      "cell_type": "code",
      "source": [
        "n = 1               \n",
        "while n!=0 :\n",
        "  n = int(input())\n",
        "  if n!=0 :\n",
        "    print(n)"
      ],
      "metadata": {
        "colab": {
          "base_uri": "https://localhost:8080/"
        },
        "id": "AWZ_PN3eBJyy",
        "outputId": "d635efa7-0746-407c-b90e-325df3592f5e"
      },
      "execution_count": null,
      "outputs": [
        {
          "name": "stdout",
          "output_type": "stream",
          "text": [
            "7\n",
            "7\n",
            "4\n",
            "4\n",
            "2\n",
            "2\n",
            "3\n",
            "3\n",
            "0\n"
          ]
        }
      ]
    },
    {
      "cell_type": "markdown",
      "source": [
        "[1072]"
      ],
      "metadata": {
        "id": "eMt0ObWPB3VF"
      }
    },
    {
      "cell_type": "code",
      "source": [
        "n = int(input())\n",
        "\n",
        "while n!=0:\n",
        "    print(n)\n",
        "    n=n-1"
      ],
      "metadata": {
        "colab": {
          "base_uri": "https://localhost:8080/"
        },
        "id": "yJSMuaWYB4uK",
        "outputId": "65e97475-7721-4282-bfdd-42f45c054bb9"
      },
      "execution_count": null,
      "outputs": [
        {
          "output_type": "stream",
          "name": "stdout",
          "text": [
            "5\n",
            "5\n",
            "4\n",
            "3\n",
            "2\n",
            "1\n"
          ]
        }
      ]
    },
    {
      "cell_type": "markdown",
      "source": [
        "[1073]"
      ],
      "metadata": {
        "id": "OyxRkeYsCbg-"
      }
    },
    {
      "cell_type": "code",
      "source": [
        "n = int(input())\n",
        "\n",
        "while n>=1:\n",
        "    n=n-1\n",
        "    print(n)\n",
        "    "
      ],
      "metadata": {
        "colab": {
          "base_uri": "https://localhost:8080/"
        },
        "id": "MHBuPnlQCdm2",
        "outputId": "bca2b2da-3467-461b-fc6a-087cfd21babc"
      },
      "execution_count": null,
      "outputs": [
        {
          "output_type": "stream",
          "name": "stdout",
          "text": [
            "5\n",
            "4\n",
            "3\n",
            "2\n",
            "1\n",
            "0\n"
          ]
        }
      ]
    },
    {
      "cell_type": "markdown",
      "source": [
        "[1074]"
      ],
      "metadata": {
        "id": "xCuiiSDYC_w1"
      }
    },
    {
      "cell_type": "code",
      "source": [
        "c = ord(input())\n",
        "t = ord('a')\n",
        "while t<=c :\n",
        "  print(chr(t), end=' ')\n",
        "  t += 1"
      ],
      "metadata": {
        "colab": {
          "base_uri": "https://localhost:8080/"
        },
        "id": "TLoLspG3DBe6",
        "outputId": "7cc11e97-6b24-4ad2-e722-d8caeea90ba1"
      },
      "execution_count": null,
      "outputs": [
        {
          "output_type": "stream",
          "name": "stdout",
          "text": [
            "f\n",
            "a b c d e f "
          ]
        }
      ]
    },
    {
      "cell_type": "markdown",
      "source": [
        "[1075]"
      ],
      "metadata": {
        "id": "JszEEk9eDhjn"
      }
    },
    {
      "cell_type": "code",
      "source": [
        "n = int(input())\n",
        "s=0\n",
        "while s<=n:\n",
        "    print(s)\n",
        "    s=s+1\n"
      ],
      "metadata": {
        "colab": {
          "base_uri": "https://localhost:8080/"
        },
        "id": "WW2EOamMDivc",
        "outputId": "9c5bd61b-0183-47ff-c729-a9a83a9f6d79"
      },
      "execution_count": null,
      "outputs": [
        {
          "output_type": "stream",
          "name": "stdout",
          "text": [
            "4\n",
            "0\n",
            "1\n",
            "2\n",
            "3\n",
            "4\n"
          ]
        }
      ]
    },
    {
      "cell_type": "markdown",
      "source": [
        "[1076]"
      ],
      "metadata": {
        "id": "-dp98ggfEHI1"
      }
    },
    {
      "cell_type": "code",
      "source": [
        "n = int(input())\n",
        "for i in range(n+1) :\n",
        "  print(i)"
      ],
      "metadata": {
        "colab": {
          "base_uri": "https://localhost:8080/"
        },
        "id": "rEb5Ep07EI0H",
        "outputId": "7aec7fdd-7c2b-469f-c947-a0355bfec53f"
      },
      "execution_count": null,
      "outputs": [
        {
          "output_type": "stream",
          "name": "stdout",
          "text": [
            "4\n",
            "0\n",
            "1\n",
            "2\n",
            "3\n",
            "4\n"
          ]
        }
      ]
    },
    {
      "cell_type": "markdown",
      "source": [
        "[1077]"
      ],
      "metadata": {
        "id": "b90JcI6hEaVB"
      }
    },
    {
      "cell_type": "code",
      "source": [
        "n = int(input())\n",
        "\n",
        "s = 0\n",
        "for i in range(1, n+1) :\n",
        "  if i%2==0 :\n",
        "    s += i\n",
        "\n",
        "print(s)"
      ],
      "metadata": {
        "colab": {
          "base_uri": "https://localhost:8080/"
        },
        "id": "LdSPAJ2mEwZz",
        "outputId": "3ade23c1-3fe4-488b-acff-961adbaab872"
      },
      "execution_count": null,
      "outputs": [
        {
          "output_type": "stream",
          "name": "stdout",
          "text": [
            "5\n",
            "6\n"
          ]
        }
      ]
    },
    {
      "cell_type": "markdown",
      "source": [
        "[1078]"
      ],
      "metadata": {
        "id": "6mZM6Q4jE8CU"
      }
    },
    {
      "cell_type": "code",
      "source": [
        "c = 'a'\n",
        "while c != 'q':\n",
        "    c = input()\n",
        "    print(c)\n"
      ],
      "metadata": {
        "colab": {
          "base_uri": "https://localhost:8080/"
        },
        "id": "3XR-GpDtE-WI",
        "outputId": "28e498c1-f63b-40e7-9de1-f30cf68ee46a"
      },
      "execution_count": null,
      "outputs": [
        {
          "output_type": "stream",
          "name": "stdout",
          "text": [
            "a\n",
            "a\n",
            "q\n",
            "q\n"
          ]
        }
      ]
    },
    {
      "cell_type": "markdown",
      "source": [
        "[1079]"
      ],
      "metadata": {
        "id": "kQRPs31WKF4f"
      }
    },
    {
      "cell_type": "code",
      "source": [
        "n = int(input())\n",
        "s = 0\n",
        "i = 0\n",
        "while s < n:\n",
        "    i += 1\n",
        "    s += i\n",
        "print(i)"
      ],
      "metadata": {
        "colab": {
          "base_uri": "https://localhost:8080/"
        },
        "id": "DVo_SWPWKHgh",
        "outputId": "ad275f34-c92c-4c16-e0a8-b1f5ec85a6e7"
      },
      "execution_count": null,
      "outputs": [
        {
          "output_type": "stream",
          "name": "stdout",
          "text": [
            "55\n",
            "10\n"
          ]
        }
      ]
    },
    {
      "cell_type": "markdown",
      "source": [
        "[1080]"
      ],
      "metadata": {
        "id": "XJh6hKEjQTeW"
      }
    },
    {
      "cell_type": "code",
      "source": [
        "m, n = input().split()\n",
        "m, n = int(m), int(n)\n",
        "for i in range(1, m+1) :\n",
        "  for j in range(1, n+1) :\n",
        "    print(i, j)"
      ],
      "metadata": {
        "colab": {
          "base_uri": "https://localhost:8080/"
        },
        "id": "eo3Uui5uQUx-",
        "outputId": "6b7e2e6c-7227-426a-ab2b-3b720f544ddd"
      },
      "execution_count": null,
      "outputs": [
        {
          "output_type": "stream",
          "name": "stdout",
          "text": [
            "2 3\n",
            "1 1\n",
            "1 2\n",
            "1 3\n",
            "2 1\n",
            "2 2\n",
            "2 3\n"
          ]
        }
      ]
    },
    {
      "cell_type": "markdown",
      "source": [
        "[1081]"
      ],
      "metadata": {
        "id": "F1WZPLc-RHjT"
      }
    },
    {
      "cell_type": "code",
      "source": [
        "n = int(input(),16)\n",
        "for i in range(1, 16):\n",
        "    print('%X' % n, '*%X' % i, '=%X' % (n*i), sep='')"
      ],
      "metadata": {
        "colab": {
          "base_uri": "https://localhost:8080/"
        },
        "id": "JXwtSNteRJCE",
        "outputId": "2db5cc44-93ea-425e-8e2e-1c7b3e683318"
      },
      "execution_count": null,
      "outputs": [
        {
          "output_type": "stream",
          "name": "stdout",
          "text": [
            "B\n",
            "B*1=B\n",
            "B*2=16\n",
            "B*3=21\n",
            "B*4=2C\n",
            "B*5=37\n",
            "B*6=42\n",
            "B*7=4D\n",
            "B*8=58\n",
            "B*9=63\n",
            "B*A=6E\n",
            "B*B=79\n",
            "B*C=84\n",
            "B*D=8F\n",
            "B*E=9A\n",
            "B*F=A5\n"
          ]
        }
      ]
    },
    {
      "cell_type": "markdown",
      "source": [
        "[1082]"
      ],
      "metadata": {
        "id": "MoGk77JLUDWT"
      }
    },
    {
      "cell_type": "code",
      "source": [
        "n = int(input())\n",
        "for i in range(1, n+1) :\n",
        "    if i%10==3 or i%10==6 or i%10==9:\n",
        "        print(\"X\", end=' ') \n",
        "    else:\n",
        "        print(i, end=' ')"
      ],
      "metadata": {
        "colab": {
          "base_uri": "https://localhost:8080/"
        },
        "id": "C9JX83ugURsi",
        "outputId": "9f8c1abf-a750-44fd-b84a-d1cb91c19b5c"
      },
      "execution_count": null,
      "outputs": [
        {
          "output_type": "stream",
          "name": "stdout",
          "text": [
            "9\n",
            "1 2 X 4 5 X 7 8 X "
          ]
        }
      ]
    },
    {
      "cell_type": "markdown",
      "source": [
        "[1083]"
      ],
      "metadata": {
        "id": "PIjjA4J2WCo5"
      }
    },
    {
      "cell_type": "code",
      "source": [
        "r, g, b = input().split()\n",
        "r, g, b = int(r), int(g), int(b)\n",
        "\n",
        "for i in range(r):\n",
        "    for j in range(g):\n",
        "        for k in range(b):\n",
        "            print(i, j, k)\n",
        "print(r*g*b)"
      ],
      "metadata": {
        "colab": {
          "base_uri": "https://localhost:8080/"
        },
        "id": "IjULCzLkWF9l",
        "outputId": "530e4a9f-bee7-41ef-8ab5-6fabeb89fea2"
      },
      "execution_count": null,
      "outputs": [
        {
          "output_type": "stream",
          "name": "stdout",
          "text": [
            "2 2 2\n",
            "0 0 0\n",
            "0 0 1\n",
            "0 1 0\n",
            "0 1 1\n",
            "1 0 0\n",
            "1 0 1\n",
            "1 1 0\n",
            "1 1 1\n",
            "8\n"
          ]
        }
      ]
    },
    {
      "cell_type": "markdown",
      "source": [
        "[1084]"
      ],
      "metadata": {
        "id": "5T1n83ksXZAO"
      }
    },
    {
      "cell_type": "code",
      "source": [
        "h, b, c, s = input().split()\n",
        "h, b, c, s = int(h), int(b), int(c), int(s)\n",
        "m = ((h * b * c * s)/8)/ (2**10) / (2**10) \n",
        "print(round(m,1), \"MiB\", end=\" \")"
      ],
      "metadata": {
        "colab": {
          "base_uri": "https://localhost:8080/"
        },
        "id": "DBKskrLlXa5c",
        "outputId": "5eca4a0a-71f5-487b-e4b0-fe2c3c6d17dc"
      },
      "execution_count": null,
      "outputs": [
        {
          "output_type": "stream",
          "name": "stdout",
          "text": [
            "44100 16 2 10\n",
            "1.7 MiB "
          ]
        }
      ]
    },
    {
      "cell_type": "markdown",
      "source": [
        "[1085]"
      ],
      "metadata": {
        "id": "WC3-P-c8idiz"
      }
    },
    {
      "cell_type": "code",
      "source": [
        "w, h, b = input().split()\n",
        "w, h, b = int(w), int(h), int(b)\n",
        "m = ((w*h*b)/8)/ (2**10) / (2**10) \n",
        "print(round(m,2), \"MiB\", end=\" \")"
      ],
      "metadata": {
        "colab": {
          "base_uri": "https://localhost:8080/"
        },
        "id": "zP3p0f5Bifvo",
        "outputId": "3e9c3adf-f365-4165-c673-ee5734dc7b11"
      },
      "execution_count": null,
      "outputs": [
        {
          "output_type": "stream",
          "name": "stdout",
          "text": [
            "1024 768 24\n",
            "2.25 MiB "
          ]
        }
      ]
    },
    {
      "cell_type": "markdown",
      "source": [
        "[1086]"
      ],
      "metadata": {
        "id": "2AsOPn_WlyHW"
      }
    },
    {
      "cell_type": "code",
      "source": [
        "n = int(input())\n",
        "s = 0\n",
        "c = 1\n",
        "while True :  \n",
        "    s += c\n",
        "    c += 1\n",
        "    if s>=n :\n",
        "        break        \n",
        "print(s)"
      ],
      "metadata": {
        "colab": {
          "base_uri": "https://localhost:8080/"
        },
        "id": "0THPijs0lzeh",
        "outputId": "2b600d0e-7281-4314-e068-14b0c5c90f3c"
      },
      "execution_count": null,
      "outputs": [
        {
          "output_type": "stream",
          "name": "stdout",
          "text": [
            "57\n",
            "66\n"
          ]
        }
      ]
    },
    {
      "cell_type": "markdown",
      "source": [
        "[1087]"
      ],
      "metadata": {
        "id": "Kxg82OB5m-_2"
      }
    },
    {
      "cell_type": "code",
      "source": [
        "n = int(input())\n",
        "for i in range(1, n+1) :\n",
        "  if i%3==0 :\n",
        "    continue                  \n",
        "  print(i, end=' ')"
      ],
      "metadata": {
        "colab": {
          "base_uri": "https://localhost:8080/"
        },
        "id": "zvTRcGS4WyAW",
        "outputId": "e1e7e4b8-8b42-420b-c650-daa428b12326"
      },
      "execution_count": null,
      "outputs": [
        {
          "output_type": "stream",
          "name": "stdout",
          "text": [
            "10\n",
            "1 2 4 5 7 8 10 "
          ]
        }
      ]
    },
    {
      "cell_type": "markdown",
      "source": [
        "[1088]"
      ],
      "metadata": {
        "id": "cYoAkDeeoy57"
      }
    },
    {
      "cell_type": "code",
      "source": [
        "a, d, n = input().split()\n",
        "a, d, n = int(a), int(d), int(n)\n",
        "k = 1\n",
        "while True:\n",
        "    a = a + d\n",
        "    k += 1\n",
        "    if k == n:\n",
        "        break\n",
        "print(a)"
      ],
      "metadata": {
        "colab": {
          "base_uri": "https://localhost:8080/"
        },
        "id": "diJX2Gdyo0yp",
        "outputId": "c4178e49-3855-4089-89c3-2e4385f0423a"
      },
      "execution_count": null,
      "outputs": [
        {
          "output_type": "stream",
          "name": "stdout",
          "text": [
            "1 3 5\n",
            "13\n"
          ]
        }
      ]
    },
    {
      "cell_type": "markdown",
      "source": [
        "[1089]"
      ],
      "metadata": {
        "id": "mV2iAohatdoR"
      }
    },
    {
      "cell_type": "code",
      "source": [
        "a, r, n = input().split()\n",
        "a, r, n = int(a), int(r), int(n)\n",
        "k = 1\n",
        "while True:\n",
        "    a = a * r\n",
        "    k += 1\n",
        "    if k == n:\n",
        "        break\n",
        "print(a)"
      ],
      "metadata": {
        "colab": {
          "base_uri": "https://localhost:8080/"
        },
        "id": "Hg3Vry5Etf10",
        "outputId": "80a65b70-3975-4b1d-ba97-9f096d1bd0d0"
      },
      "execution_count": null,
      "outputs": [
        {
          "output_type": "stream",
          "name": "stdout",
          "text": [
            "2 3 7\n",
            "1458\n"
          ]
        }
      ]
    },
    {
      "cell_type": "markdown",
      "source": [
        "[1090]"
      ],
      "metadata": {
        "id": "xAjNP0ux_IxN"
      }
    },
    {
      "cell_type": "code",
      "source": [
        "a, m, d, n = input().split()\n",
        "a, m, d, n = int(a), int(m), int(d), int(n)\n",
        "\n",
        "k = 1\n",
        "\n",
        "while True:\n",
        "    if n == 1 or k == n:     # n == 1일 경우 주의해야 함!\n",
        "        break\n",
        "    else:\n",
        "        a = a * m + d\n",
        "        k += 1\n",
        "print(a)\n",
        "\n",
        "                                    "
      ],
      "metadata": {
        "colab": {
          "base_uri": "https://localhost:8080/"
        },
        "id": "BMV3UQPJ_LP8",
        "outputId": "cb1fdb62-db88-452e-a3f9-6df88ac50973"
      },
      "execution_count": null,
      "outputs": [
        {
          "output_type": "stream",
          "name": "stdout",
          "text": [
            "1 -2 1 8\n",
            "-85\n"
          ]
        }
      ]
    },
    {
      "cell_type": "code",
      "source": [
        "a, m, d, n = input().split()\n",
        "\n",
        "a = int(a)\n",
        "m = int(m)\n",
        "d = int(d)\n",
        "n = int(n)\n",
        "\n",
        "for i in range(1, n) :\n",
        "  a = a*m+d\n",
        "\n",
        "print(a)\n"
      ],
      "metadata": {
        "colab": {
          "base_uri": "https://localhost:8080/"
        },
        "id": "xWYW2BDWDf7o",
        "outputId": "da1decba-2b53-4217-fbc0-479e80c5f528"
      },
      "execution_count": null,
      "outputs": [
        {
          "output_type": "stream",
          "name": "stdout",
          "text": [
            "1 -2 1 8\n",
            "-85\n"
          ]
        }
      ]
    },
    {
      "cell_type": "markdown",
      "source": [
        "[1091]"
      ],
      "metadata": {
        "id": "V0amDDpqY3RV"
      }
    },
    {
      "cell_type": "code",
      "source": [
        "a, b, c = input().split()\n",
        "a, b, c = int(a), int(b), int(c)\n",
        "d = 1\n",
        "\n",
        "while d%a!=0 or d%b!=0 or d%c!=0 :\n",
        "  d += 1\n",
        "print(d)"
      ],
      "metadata": {
        "colab": {
          "base_uri": "https://localhost:8080/"
        },
        "id": "OsG9l6YVmrHN",
        "outputId": "5e20d159-0579-41bc-dc53-a2b96f2545b2"
      },
      "execution_count": null,
      "outputs": [
        {
          "output_type": "stream",
          "name": "stdout",
          "text": [
            "3 7 9\n",
            "63\n"
          ]
        }
      ]
    },
    {
      "cell_type": "markdown",
      "source": [
        "[1092]"
      ],
      "metadata": {
        "id": "PH0UtDjJIBbs"
      }
    },
    {
      "cell_type": "code",
      "source": [
        "n = int(input())      \n",
        "a = input().split()  \n",
        "\n",
        "for i in range(n) :  \n",
        "  a[i] = int(a[i])       \n",
        "\n",
        "d = []                     \n",
        "for i in range(24) : \n",
        "  d.append(0)        \n",
        "                             \n",
        "\n",
        "for i in range(n) :\n",
        "  d[a[i]] += 1          \n",
        "\n",
        "for i in range(1, 24) :\n",
        "  print(d[i], end=' ')  "
      ],
      "metadata": {
        "colab": {
          "base_uri": "https://localhost:8080/"
        },
        "id": "sbuwoSJ1ICvR",
        "outputId": "d6614d4b-8db0-4bed-cea0-e46096b5bb67"
      },
      "execution_count": null,
      "outputs": [
        {
          "output_type": "stream",
          "name": "stdout",
          "text": [
            "10\n",
            "23 10 3 5 5 6 6 6 6 2 \n",
            "0 1 1 0 2 4 0 0 0 1 0 0 0 0 0 0 0 0 0 0 0 0 1 "
          ]
        }
      ]
    },
    {
      "cell_type": "markdown",
      "source": [
        "[1093]"
      ],
      "metadata": {
        "id": "1UCSvuKIJYfW"
      }
    },
    {
      "cell_type": "code",
      "source": [
        "n = int(input())      \n",
        "a = input().split()  \n",
        "\n",
        "for i in range(n) :  \n",
        "  a[i] = int(a[i])       \n",
        "\n",
        "for i in range(n-1, -1, -1) :\n",
        "  print(a[i], end=' ')  "
      ],
      "metadata": {
        "colab": {
          "base_uri": "https://localhost:8080/"
        },
        "id": "dVvmyeg9Jacl",
        "outputId": "66549035-e875-4946-c35c-1dca2f03ff1e"
      },
      "execution_count": null,
      "outputs": [
        {
          "output_type": "stream",
          "name": "stdout",
          "text": [
            "10\n",
            "10 4 2 3 6 6 7 9 8 5\n",
            "5 8 9 7 6 6 3 2 4 10 "
          ]
        }
      ]
    },
    {
      "cell_type": "markdown",
      "source": [
        "[1094]"
      ],
      "metadata": {
        "id": "B5EpJLyHKl_0"
      }
    },
    {
      "cell_type": "code",
      "source": [
        "n = int(input())      \n",
        "a = input().split()  \n",
        "\n",
        "for i in range(n) :  \n",
        "  a[i] = int(a[i])       \n",
        "\n",
        "min=100\n",
        "\n",
        "for i in range(n) :\n",
        "    if a[i] < min:\n",
        "        min = a[i]\n",
        "\n",
        "print(min)  "
      ],
      "metadata": {
        "colab": {
          "base_uri": "https://localhost:8080/"
        },
        "id": "-SEtZ5qALPPP",
        "outputId": "97015e2b-88b0-45d3-d033-04016d0025d5"
      },
      "execution_count": null,
      "outputs": [
        {
          "output_type": "stream",
          "name": "stdout",
          "text": [
            "10\n",
            "10 4 2 3 6 6 7 9 8 5\n",
            "2\n"
          ]
        }
      ]
    },
    {
      "cell_type": "markdown",
      "source": [
        "[1095]"
      ],
      "metadata": {
        "id": "y1VWB1USLvsZ"
      }
    },
    {
      "cell_type": "code",
      "source": [
        "d = [[0 for j in range(20)] for i in range(20)]\n",
        "\n",
        "n = int(input())\n",
        "for i in range(n):\n",
        "  x, y = input().split()\n",
        "  d[int(x)][int(y)] = 1\n",
        "\n",
        "for i in range(1, 20) :\n",
        "  for j in range(1, 20) : \n",
        "    print(d[i][j], end=' ')   \n",
        "  print()                          "
      ],
      "metadata": {
        "colab": {
          "base_uri": "https://localhost:8080/"
        },
        "id": "f812gmCNLxnF",
        "outputId": "80570e80-5c41-4eeb-aa3c-eb01b42eecc9"
      },
      "execution_count": null,
      "outputs": [
        {
          "output_type": "stream",
          "name": "stdout",
          "text": [
            "5\n",
            "1 1\n",
            "2 2\n",
            "3 3\n",
            "4 4\n",
            "5 5\n",
            "1 0 0 0 0 0 0 0 0 0 0 0 0 0 0 0 0 0 0 \n",
            "0 1 0 0 0 0 0 0 0 0 0 0 0 0 0 0 0 0 0 \n",
            "0 0 1 0 0 0 0 0 0 0 0 0 0 0 0 0 0 0 0 \n",
            "0 0 0 1 0 0 0 0 0 0 0 0 0 0 0 0 0 0 0 \n",
            "0 0 0 0 1 0 0 0 0 0 0 0 0 0 0 0 0 0 0 \n",
            "0 0 0 0 0 0 0 0 0 0 0 0 0 0 0 0 0 0 0 \n",
            "0 0 0 0 0 0 0 0 0 0 0 0 0 0 0 0 0 0 0 \n",
            "0 0 0 0 0 0 0 0 0 0 0 0 0 0 0 0 0 0 0 \n",
            "0 0 0 0 0 0 0 0 0 0 0 0 0 0 0 0 0 0 0 \n",
            "0 0 0 0 0 0 0 0 0 0 0 0 0 0 0 0 0 0 0 \n",
            "0 0 0 0 0 0 0 0 0 0 0 0 0 0 0 0 0 0 0 \n",
            "0 0 0 0 0 0 0 0 0 0 0 0 0 0 0 0 0 0 0 \n",
            "0 0 0 0 0 0 0 0 0 0 0 0 0 0 0 0 0 0 0 \n",
            "0 0 0 0 0 0 0 0 0 0 0 0 0 0 0 0 0 0 0 \n",
            "0 0 0 0 0 0 0 0 0 0 0 0 0 0 0 0 0 0 0 \n",
            "0 0 0 0 0 0 0 0 0 0 0 0 0 0 0 0 0 0 0 \n",
            "0 0 0 0 0 0 0 0 0 0 0 0 0 0 0 0 0 0 0 \n",
            "0 0 0 0 0 0 0 0 0 0 0 0 0 0 0 0 0 0 0 \n",
            "0 0 0 0 0 0 0 0 0 0 0 0 0 0 0 0 0 0 0 \n"
          ]
        }
      ]
    },
    {
      "cell_type": "markdown",
      "source": [
        "[1096]우쉬!! 하지말것!! 입력데이터 넣는 것 장난아님!"
      ],
      "metadata": {
        "id": "KWcmqpX3SKWI"
      }
    },
    {
      "cell_type": "code",
      "source": [
        "d=[]\n",
        "for i in range(20) :\n",
        "  d.append([])\n",
        "  for j in range(20) : \n",
        "    d[i].append(0)\n",
        "\n",
        "for i in range(19) :\n",
        "  a = input().split()\n",
        "  for j in range(19) :\n",
        "    d[i+1][j+1] = int(a[j])\n",
        "\n",
        "n = int(input())\n",
        "for i in range(n) :\n",
        "  x,y=input().split()\n",
        "  for j in range(1, 20) :\n",
        "    if d[j][int(y)]==0 :\n",
        "      d[j][int(y)]=1\n",
        "    else :\n",
        "      d[j][int(y)]=0\n",
        "\n",
        "    if d[int(x)][j]==0 :\n",
        "      d[int(x)][j]=1\n",
        "    else :\n",
        "      d[int(x)][j]=0\n",
        "\n",
        "for i in range(1, 20) :\n",
        "  for j in range(1, 20) : \n",
        "    print(d[i][j], end=' ')   \n",
        "  print() "
      ],
      "metadata": {
        "colab": {
          "base_uri": "https://localhost:8080/",
          "height": 290
        },
        "id": "5cnU1a4WVXhA",
        "outputId": "0b753d87-715a-48b6-80ea-cbeb12db07b3"
      },
      "execution_count": null,
      "outputs": [
        {
          "name": "stdout",
          "output_type": "stream",
          "text": [
            "0 0 0 0 0 0 0 0 0 1 0 1 0 0 0 0 0 0 0 0 0 0 0 0 0 0 0 0 1 0 1 0 0 0 0 0 0 0 0 0 0 0 0 0 0 0 0 1 0 1 0 0 0 0 0 0 0 0 0 0 0 0 0 0 0 0 1 0 1 0 0 0 0 0 0 0 0 0 0 0 0 0 0 0 0 1 0 1 0 0 0 0 0 0 0 0 0 0 0 0 0 0 0 0 1 0 1 0 0 0 0 0 0 0 0 0 0 0 0 0 0 0 0 1 0 1 0 0 0 0 0 0 0 0 0 0 0 0 0 0 0 0 1 0 1 0 0 0 0 0 0 0 0 0 0 0 0 0 0 0 0 1 0 1 0 0 0 0 0 0 0 1 1 1 1 1 1 1 1 1 1 1 1 1 1 1 1 1 1 1 0 0 0 0 0 0 0 0 0 1 0 1 0 0 0 0 0 0 0 1 1 1 1 1 1 1 1 1 1 1 1 1 1 1 1 1 1 1 0 0 0 0 0 0 0 0 0 1 0 1 0 0 0 0 0 0 0 0 0 0 0 0 0 0 0 0 1 0 1 0 0 0 0 0 0 0 0 0 0 0 0 0 0 0 0 1 0 1 0 0 0 0 0 0 0 0 0 0 0 0 0 0 0 0 1 0 1 0 0 0 0 0 0 0 0 0 0 0 0 0 0 0 0 1 0 1 0 0 0 0 0 0 0 0 0 0 0 0 0 0 0 0 1 0 1 0 0 0 0 0 0 0 0 0 0 0 0 0 0 0 0 1 0 1 0 0 0 0 0 0 0\n",
            "2\n"
          ]
        },
        {
          "output_type": "error",
          "ename": "IndexError",
          "evalue": "ignored",
          "traceback": [
            "\u001b[0;31m---------------------------------------------------------------------------\u001b[0m",
            "\u001b[0;31mIndexError\u001b[0m                                Traceback (most recent call last)",
            "\u001b[0;32m<ipython-input-25-220d6d941564>\u001b[0m in \u001b[0;36m<module>\u001b[0;34m()\u001b[0m\n\u001b[1;32m      8\u001b[0m   \u001b[0ma\u001b[0m \u001b[0;34m=\u001b[0m \u001b[0minput\u001b[0m\u001b[0;34m(\u001b[0m\u001b[0;34m)\u001b[0m\u001b[0;34m.\u001b[0m\u001b[0msplit\u001b[0m\u001b[0;34m(\u001b[0m\u001b[0;34m)\u001b[0m\u001b[0;34m\u001b[0m\u001b[0;34m\u001b[0m\u001b[0m\n\u001b[1;32m      9\u001b[0m   \u001b[0;32mfor\u001b[0m \u001b[0mj\u001b[0m \u001b[0;32min\u001b[0m \u001b[0mrange\u001b[0m\u001b[0;34m(\u001b[0m\u001b[0;36m19\u001b[0m\u001b[0;34m)\u001b[0m \u001b[0;34m:\u001b[0m\u001b[0;34m\u001b[0m\u001b[0;34m\u001b[0m\u001b[0m\n\u001b[0;32m---> 10\u001b[0;31m     \u001b[0md\u001b[0m\u001b[0;34m[\u001b[0m\u001b[0mi\u001b[0m\u001b[0;34m+\u001b[0m\u001b[0;36m1\u001b[0m\u001b[0;34m]\u001b[0m\u001b[0;34m[\u001b[0m\u001b[0mj\u001b[0m\u001b[0;34m+\u001b[0m\u001b[0;36m1\u001b[0m\u001b[0;34m]\u001b[0m \u001b[0;34m=\u001b[0m \u001b[0mint\u001b[0m\u001b[0;34m(\u001b[0m\u001b[0ma\u001b[0m\u001b[0;34m[\u001b[0m\u001b[0mj\u001b[0m\u001b[0;34m]\u001b[0m\u001b[0;34m)\u001b[0m\u001b[0;34m\u001b[0m\u001b[0;34m\u001b[0m\u001b[0m\n\u001b[0m\u001b[1;32m     11\u001b[0m \u001b[0;34m\u001b[0m\u001b[0m\n\u001b[1;32m     12\u001b[0m \u001b[0mn\u001b[0m \u001b[0;34m=\u001b[0m \u001b[0mint\u001b[0m\u001b[0;34m(\u001b[0m\u001b[0minput\u001b[0m\u001b[0;34m(\u001b[0m\u001b[0;34m)\u001b[0m\u001b[0;34m)\u001b[0m\u001b[0;34m\u001b[0m\u001b[0;34m\u001b[0m\u001b[0m\n",
            "\u001b[0;31mIndexError\u001b[0m: list index out of range"
          ]
        }
      ]
    },
    {
      "cell_type": "code",
      "source": [
        "[1097]"
      ],
      "metadata": {
        "id": "6GxdMuFvhhKS"
      },
      "execution_count": null,
      "outputs": []
    },
    {
      "cell_type": "code",
      "source": [
        "h,w = input().split()\n",
        "h = int(h)\n",
        "w = int(w)\n",
        "\n",
        "m = []\n",
        "for i in range(h+1) :\n",
        "  m.append([])\n",
        "  for j in range(w+1) :\n",
        "    m[i].append(0)\n",
        "\n",
        "n = int(input())\n",
        "for i in range(n) :\n",
        "  l,d,x,y = input().split()\n",
        "  if int(d)==0 :\n",
        "    for j in range(int(l)) :\n",
        "      m[int(x)][int(y)+j] = 1\n",
        "  else :\n",
        "    for j in range(int(l)) :\n",
        "      m[int(x)+j][int(y)] = 1\n",
        "\n",
        "for i in range(1, h+1) :\n",
        "  for j in range(1, w+1) :\n",
        "    print(m[i][j], end=' ')\n",
        "  print()"
      ],
      "metadata": {
        "id": "Lb_edDr4hi2F"
      },
      "execution_count": null,
      "outputs": []
    },
    {
      "cell_type": "markdown",
      "source": [
        "[1098]"
      ],
      "metadata": {
        "id": "L46fZxLxhjXn"
      }
    },
    {
      "cell_type": "code",
      "source": [
        "m=[]\n",
        "for i in range(12) :\n",
        "  m.append([])\n",
        "  for j in range(12) :\n",
        "    m[i].append(0)\n",
        "\n",
        "for i in range(10) :\n",
        "  a=input().split()\n",
        "  for j in range(10) :\n",
        "    m[i+1][j+1]=int(a[j])\n",
        "\n",
        "x = 2\n",
        "y = 2\n",
        "while True :\n",
        "  if m[x][y] == 0 :\n",
        "    m[x][y] = 9\n",
        "  elif m[x][y] == 2 :\n",
        "    m[x][y] = 9\n",
        "    break\n",
        "\n",
        "  if (m[x][y+1]==1 and m[x+1][y]==1) or (x==9 and y==9) :\n",
        "    break\n",
        "\n",
        "  if m[x][y+1] != 1 :\n",
        "    y += 1\n",
        "  elif m[x+1][y] != 1 :\n",
        "    x += 1\n",
        "    \n",
        "\n",
        "for i in range(1, 11) :\n",
        "  for j in range(1, 11) :\n",
        "    print(m[i][j], end=' ')\n",
        "  print()"
      ],
      "metadata": {
        "id": "1sNXQIN2hkyc"
      },
      "execution_count": null,
      "outputs": []
    }
  ]
}